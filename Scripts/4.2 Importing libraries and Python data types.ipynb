{
 "cells": [
  {
   "cell_type": "markdown",
   "id": "f9c1f28c",
   "metadata": {},
   "source": [
    "# 01. Importing Libraries"
   ]
  },
  {
   "cell_type": "code",
   "execution_count": 1,
   "id": "4ce9d366",
   "metadata": {},
   "outputs": [],
   "source": [
    "# Import libraries\n",
    "import pandas as pd\n",
    "import numpy as np\n",
    "import os"
   ]
  },
  {
   "cell_type": "markdown",
   "id": "9713d909",
   "metadata": {},
   "source": [
    "# 02. Data Types"
   ]
  },
  {
   "cell_type": "markdown",
   "id": "db41eef6",
   "metadata": {},
   "source": [
    "x = 2"
   ]
  },
  {
   "cell_type": "code",
   "execution_count": 4,
   "id": "c9302770",
   "metadata": {},
   "outputs": [
    {
     "data": {
      "text/plain": [
       "2"
      ]
     },
     "execution_count": 4,
     "metadata": {},
     "output_type": "execute_result"
    }
   ],
   "source": [
    "x"
   ]
  },
  {
   "cell_type": "code",
   "execution_count": 5,
   "id": "1df6b06d",
   "metadata": {},
   "outputs": [
    {
     "name": "stdout",
     "output_type": "stream",
     "text": [
      "2\n"
     ]
    }
   ],
   "source": [
    "print(x)"
   ]
  },
  {
   "cell_type": "code",
   "execution_count": 6,
   "id": "7398a4bc",
   "metadata": {},
   "outputs": [
    {
     "data": {
      "text/plain": [
       "int"
      ]
     },
     "execution_count": 6,
     "metadata": {},
     "output_type": "execute_result"
    }
   ],
   "source": [
    "type(x)"
   ]
  },
  {
   "cell_type": "code",
   "execution_count": 7,
   "id": "db127f86",
   "metadata": {},
   "outputs": [],
   "source": [
    "y = 5.678"
   ]
  },
  {
   "cell_type": "code",
   "execution_count": 8,
   "id": "3edda902",
   "metadata": {},
   "outputs": [
    {
     "data": {
      "text/plain": [
       "float"
      ]
     },
     "execution_count": 8,
     "metadata": {},
     "output_type": "execute_result"
    }
   ],
   "source": [
    "type(y)"
   ]
  },
  {
   "cell_type": "code",
   "execution_count": 9,
   "id": "5213a8e2",
   "metadata": {},
   "outputs": [],
   "source": [
    "z='Brazil'"
   ]
  },
  {
   "cell_type": "code",
   "execution_count": 10,
   "id": "fd670062",
   "metadata": {},
   "outputs": [
    {
     "data": {
      "text/plain": [
       "str"
      ]
     },
     "execution_count": 10,
     "metadata": {},
     "output_type": "execute_result"
    }
   ],
   "source": [
    "type(z)"
   ]
  },
  {
   "cell_type": "code",
   "execution_count": 12,
   "id": "fedc5249",
   "metadata": {},
   "outputs": [
    {
     "data": {
      "text/plain": [
       "bool"
      ]
     },
     "execution_count": 12,
     "metadata": {},
     "output_type": "execute_result"
    }
   ],
   "source": [
    "type(True)"
   ]
  },
  {
   "cell_type": "code",
   "execution_count": 13,
   "id": "4a64101f",
   "metadata": {},
   "outputs": [
    {
     "data": {
      "text/plain": [
       "bool"
      ]
     },
     "execution_count": 13,
     "metadata": {},
     "output_type": "execute_result"
    }
   ],
   "source": [
    "type(False)"
   ]
  },
  {
   "cell_type": "code",
   "execution_count": 14,
   "id": "d61db0ab",
   "metadata": {},
   "outputs": [
    {
     "name": "stdout",
     "output_type": "stream",
     "text": [
      "2\n"
     ]
    }
   ],
   "source": [
    "print(x)"
   ]
  },
  {
   "cell_type": "code",
   "execution_count": 15,
   "id": "82253d12",
   "metadata": {},
   "outputs": [
    {
     "data": {
      "text/plain": [
       "6"
      ]
     },
     "execution_count": 15,
     "metadata": {},
     "output_type": "execute_result"
    }
   ],
   "source": [
    "x+4"
   ]
  },
  {
   "cell_type": "code",
   "execution_count": 16,
   "id": "f5459d2a",
   "metadata": {},
   "outputs": [],
   "source": [
    "x = x+4"
   ]
  },
  {
   "cell_type": "code",
   "execution_count": 17,
   "id": "2a4566b8",
   "metadata": {},
   "outputs": [
    {
     "name": "stdout",
     "output_type": "stream",
     "text": [
      "6\n"
     ]
    }
   ],
   "source": [
    "print(x)"
   ]
  },
  {
   "cell_type": "code",
   "execution_count": 18,
   "id": "cbc2b054",
   "metadata": {},
   "outputs": [
    {
     "data": {
      "text/plain": [
       "False"
      ]
     },
     "execution_count": 18,
     "metadata": {},
     "output_type": "execute_result"
    }
   ],
   "source": [
    "x == y"
   ]
  },
  {
   "cell_type": "code",
   "execution_count": 19,
   "id": "eab896cd",
   "metadata": {},
   "outputs": [
    {
     "data": {
      "text/plain": [
       "bool"
      ]
     },
     "execution_count": 19,
     "metadata": {},
     "output_type": "execute_result"
    }
   ],
   "source": [
    "type(x == y)"
   ]
  },
  {
   "cell_type": "code",
   "execution_count": 20,
   "id": "e6fff957",
   "metadata": {},
   "outputs": [],
   "source": [
    "x=25"
   ]
  },
  {
   "cell_type": "code",
   "execution_count": 21,
   "id": "d7754b57",
   "metadata": {},
   "outputs": [
    {
     "data": {
      "text/plain": [
       "100"
      ]
     },
     "execution_count": 21,
     "metadata": {},
     "output_type": "execute_result"
    }
   ],
   "source": [
    "x*4"
   ]
  },
  {
   "cell_type": "code",
   "execution_count": 22,
   "id": "8966f76d",
   "metadata": {},
   "outputs": [
    {
     "data": {
      "text/plain": [
       "100"
      ]
     },
     "execution_count": 22,
     "metadata": {},
     "output_type": "execute_result"
    }
   ],
   "source": [
    "x+75"
   ]
  },
  {
   "cell_type": "code",
   "execution_count": 23,
   "id": "0d3b466e",
   "metadata": {},
   "outputs": [
    {
     "data": {
      "text/plain": [
       "100"
      ]
     },
     "execution_count": 23,
     "metadata": {},
     "output_type": "execute_result"
    }
   ],
   "source": [
    "(x*6)-50"
   ]
  },
  {
   "cell_type": "code",
   "execution_count": 24,
   "id": "6dd9efd0",
   "metadata": {},
   "outputs": [],
   "source": [
    "x=50.5"
   ]
  },
  {
   "cell_type": "code",
   "execution_count": 25,
   "id": "4c0ec798",
   "metadata": {},
   "outputs": [],
   "source": [
    "y=2.25"
   ]
  },
  {
   "cell_type": "code",
   "execution_count": 26,
   "id": "2100029f",
   "metadata": {},
   "outputs": [
    {
     "data": {
      "text/plain": [
       "22.444444444444443"
      ]
     },
     "execution_count": 26,
     "metadata": {},
     "output_type": "execute_result"
    }
   ],
   "source": [
    "x/y"
   ]
  },
  {
   "cell_type": "code",
   "execution_count": 27,
   "id": "b6da2446",
   "metadata": {},
   "outputs": [],
   "source": [
    "a='Py'"
   ]
  },
  {
   "cell_type": "code",
   "execution_count": 28,
   "id": "2e3febe7",
   "metadata": {},
   "outputs": [],
   "source": [
    "b='th'"
   ]
  },
  {
   "cell_type": "code",
   "execution_count": 29,
   "id": "2d94e473",
   "metadata": {},
   "outputs": [],
   "source": [
    "c='on'"
   ]
  },
  {
   "cell_type": "code",
   "execution_count": 30,
   "id": "11b88003",
   "metadata": {},
   "outputs": [
    {
     "data": {
      "text/plain": [
       "'Python'"
      ]
     },
     "execution_count": 30,
     "metadata": {},
     "output_type": "execute_result"
    }
   ],
   "source": [
    "a+b+c"
   ]
  },
  {
   "cell_type": "code",
   "execution_count": 36,
   "id": "31cfe992",
   "metadata": {},
   "outputs": [],
   "source": [
    "d='I '"
   ]
  },
  {
   "cell_type": "code",
   "execution_count": 37,
   "id": "66ed9d8a",
   "metadata": {},
   "outputs": [],
   "source": [
    "e='love '"
   ]
  },
  {
   "cell_type": "code",
   "execution_count": 38,
   "id": "f4e927b7",
   "metadata": {},
   "outputs": [],
   "source": [
    "f='Python'"
   ]
  },
  {
   "cell_type": "code",
   "execution_count": 39,
   "id": "5cac345e",
   "metadata": {},
   "outputs": [
    {
     "data": {
      "text/plain": [
       "'I love Python'"
      ]
     },
     "execution_count": 39,
     "metadata": {},
     "output_type": "execute_result"
    }
   ],
   "source": [
    "d+e+f"
   ]
  },
  {
   "cell_type": "code",
   "execution_count": 40,
   "id": "1df561ed",
   "metadata": {},
   "outputs": [],
   "source": [
    "g='Learning '"
   ]
  },
  {
   "cell_type": "code",
   "execution_count": 43,
   "id": "55b837b4",
   "metadata": {},
   "outputs": [],
   "source": [
    "h='to '"
   ]
  },
  {
   "cell_type": "code",
   "execution_count": 44,
   "id": "ae4d39d3",
   "metadata": {},
   "outputs": [],
   "source": [
    "i='code!'"
   ]
  },
  {
   "cell_type": "code",
   "execution_count": 45,
   "id": "95271d47",
   "metadata": {},
   "outputs": [
    {
     "data": {
      "text/plain": [
       "'Learning to code!'"
      ]
     },
     "execution_count": 45,
     "metadata": {},
     "output_type": "execute_result"
    }
   ],
   "source": [
    "g+h+i"
   ]
  },
  {
   "cell_type": "code",
   "execution_count": 46,
   "id": "bf71e34a",
   "metadata": {},
   "outputs": [
    {
     "data": {
      "text/plain": [
       "'code!code!code!code!code!code!code!code!code!code!code!code!code!code!code!code!code!code!code!code!code!code!code!code!code!code!code!code!code!code!code!code!code!code!code!code!code!code!code!code!code!code!code!code!code!code!code!code!code!code!code!code!code!code!code!code!code!code!code!code!code!code!code!code!code!code!code!code!code!code!code!code!code!code!code!code!code!code!code!code!code!code!code!code!code!code!code!code!code!code!code!code!code!code!code!code!code!code!code!code!'"
      ]
     },
     "execution_count": 46,
     "metadata": {},
     "output_type": "execute_result"
    }
   ],
   "source": [
    "#bonus\n",
    "i*100"
   ]
  },
  {
   "cell_type": "code",
   "execution_count": null,
   "id": "4dd133ff",
   "metadata": {},
   "outputs": [],
   "source": []
  }
 ],
 "metadata": {
  "kernelspec": {
   "display_name": "Python 3 (ipykernel)",
   "language": "python",
   "name": "python3"
  },
  "language_info": {
   "codemirror_mode": {
    "name": "ipython",
    "version": 3
   },
   "file_extension": ".py",
   "mimetype": "text/x-python",
   "name": "python",
   "nbconvert_exporter": "python",
   "pygments_lexer": "ipython3",
   "version": "3.11.5"
  }
 },
 "nbformat": 4,
 "nbformat_minor": 5
}
